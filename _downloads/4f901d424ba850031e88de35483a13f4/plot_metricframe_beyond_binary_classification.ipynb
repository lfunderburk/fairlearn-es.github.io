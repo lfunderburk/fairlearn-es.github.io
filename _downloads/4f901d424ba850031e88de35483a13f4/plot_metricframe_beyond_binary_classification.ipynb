{
  "cells": [
    {
      "cell_type": "code",
      "execution_count": null,
      "metadata": {
        "collapsed": false
      },
      "outputs": [],
      "source": [
        "%matplotlib inline"
      ]
    },
    {
      "cell_type": "markdown",
      "metadata": {},
      "source": [
        "MetricFrame: m\u00e1s all\u00e1 de la clasificaci\u00f3n binaria\n=================================================\n"
      ]
    },
    {
      "cell_type": "markdown",
      "metadata": {},
      "source": [
        "Este notebook contiene ejemplos de uso\n`~ fairlearn.metrics.MetricFrame`{.interpreted-text role=\"class\"} para\ntareas que van m\u00e1s all\u00e1 de la simple clasificaci\u00f3n binaria.\n"
      ]
    },
    {
      "cell_type": "code",
      "execution_count": null,
      "metadata": {
        "collapsed": false
      },
      "outputs": [],
      "source": [
        "import sklearn.metrics as skm\nimport functools\nfrom fairlearn.metrics import MetricFrame"
      ]
    },
    {
      "cell_type": "markdown",
      "metadata": {},
      "source": [
        "Resultados multiclase y no escalares\n====================================\n\nSupongamos que tenemos un problema multiclase, con etiquetas\n$\\ in {0, 1, 2}$, y que deseamos generar matrices de confusi\u00f3n para cada\nsubgrupo identificado por la caracter\u00edstica sensible\n$\\ in {a, b, c, d}$. Esto es apoyado f\u00e1cilmente por\n`~ fairlearn.metrics.MetricFrame`{.interpreted-text role=\"class\"}, que\nno requiere el resultado de una m\u00e9trica para ser un escalar.\n\nPrimero, generemos algunos datos de entrada aleatorios:\n"
      ]
    },
    {
      "cell_type": "code",
      "execution_count": null,
      "metadata": {
        "collapsed": false
      },
      "outputs": [],
      "source": [
        "import numpy as np\n\nrng = np.random.default_rng(seed=96132)\n\nn_rows = 1000\nn_classes = 3\nn_sensitive_features = 4\n\ny_true = rng.integers(n_classes, size=n_rows)\ny_pred = rng.integers(n_classes, size=n_rows)\n\ntemp = rng.integers(n_sensitive_features, size=n_rows)\ns_f = [chr(ord('a')+x) for x in temp]"
      ]
    },
    {
      "cell_type": "markdown",
      "metadata": {},
      "source": [
        "Para usar `~ sklearn.metrics.confusion_matrix`{.interpreted-text\nrole=\"func\"}, es necesario enlazar previamente el argumento\n[labels]{.title-ref} (etiquetas), ya que es posible que algunos de los\nsubgrupos no contendr\u00e1n todos las posibles etiquetas\n"
      ]
    },
    {
      "cell_type": "code",
      "execution_count": null,
      "metadata": {
        "collapsed": false
      },
      "outputs": [],
      "source": [
        "conf_mat = functools.partial(skm.confusion_matrix,\n                             labels=np.unique(y_true))"
      ]
    },
    {
      "cell_type": "markdown",
      "metadata": {},
      "source": [
        "Con esto ahora disponible, podemos crear nuestro objeto\n`~ fairlearn.metrics.MetricFrame`{.interpreted-text role=\"class\"}:\n"
      ]
    },
    {
      "cell_type": "code",
      "execution_count": null,
      "metadata": {
        "collapsed": false
      },
      "outputs": [],
      "source": [
        "mf = MetricFrame(metrics={'conf_mat': conf_mat},\n                 y_true=y_true,\n                 y_pred=y_pred,\n                 sensitive_features=s_f)"
      ]
    },
    {
      "cell_type": "markdown",
      "metadata": {},
      "source": [
        "A partir de esto, podemos ver la matriz de confusi\u00f3n general:\n"
      ]
    },
    {
      "cell_type": "code",
      "execution_count": null,
      "metadata": {
        "collapsed": false
      },
      "outputs": [],
      "source": [
        "mf.overall"
      ]
    },
    {
      "cell_type": "markdown",
      "metadata": {},
      "source": [
        "Y tambi\u00e9n las matrices de confusi\u00f3n para cada subgrupo:\n"
      ]
    },
    {
      "cell_type": "code",
      "execution_count": null,
      "metadata": {
        "collapsed": false
      },
      "outputs": [],
      "source": [
        "mf.by_group"
      ]
    },
    {
      "cell_type": "markdown",
      "metadata": {},
      "source": [
        "Obviamente, los otros m\u00e9todos como\n`~ fairlearn.metrics.MetricFrame.group_min`{.interpreted-text\nrole=\"meth\"} no funcionar\u00e1n, ya que operaciones como \\'less than\\'\n(menor que) no est\u00e1n bien definidos para matrices.\n"
      ]
    },
    {
      "cell_type": "markdown",
      "metadata": {},
      "source": [
        "Las funciones m\u00e9tricas con diferentes tipos de retorno tambi\u00e9n pueden\nmezclarse con `~ fairlearn.metrics.MetricFrame`{.interpreted-text\nrole=\"class\"}. Por ejemplo:\n"
      ]
    },
    {
      "cell_type": "code",
      "execution_count": null,
      "metadata": {
        "collapsed": false
      },
      "outputs": [],
      "source": [
        "recall = functools.partial(skm.recall_score, average='macro')\n\nmf2 = MetricFrame(metrics={'conf_mat': conf_mat,\n                           'recall': recall\n                           },\n                  y_true=y_true,\n                  y_pred=y_pred,\n                  sensitive_features=s_f)\n\nprint(\"Overall values\")\nprint(mf2.overall)\nprint(\"Values by group\")\nprint(mf2.by_group)"
      ]
    },
    {
      "cell_type": "markdown",
      "metadata": {},
      "source": [
        "Argumentos no escalares\n=======================\n\n`~ fairlearn.metrics.MetricFrame`{.interpreted-text role=\"class\"} no\nrequiere que los argumentos sean escalares. Para demostrar esto,\nutilizaremos un ejemplo de reconocimiento de im\u00e1genes (proporcionado\namablemente por Ferdane Bekmezci, Hamid Vaezi Joze y Samira Pouyanfar).\n\nLos algoritmos de reconocimiento de im\u00e1genes frecuentemente construyen\nun cuadro delimitador (bounding box) alrededor de las regiones donde han\nencontrado las caracter\u00edsticas objetivo. Por ejemplo, si un algoritmo\ndetecta un rostro en una imagen, colocar\u00e1 un cuadro delimitador a su\nalrededor. Estos cuadros delimitadores constituyen [y\\_pred]{.title-ref}\npara `~ fairlearn.metrics.MetricFrame`{.interpreted-text role=\"class\"}.\nLos valores de [y\\_true]{.title-ref} proceden de los cuadros\ndelimitadores marcados con etiquetadores humanos.\n\nLos cuadros delimitadores a menudo se comparan utilizando la m\u00e9trica\n\\'iou\\'. \u00c9sta calcula la intersecci\u00f3n y la uni\u00f3n de los dos cuadros\ndelimitadores y devuelve la proporci\u00f3n de sus \u00e1reas. Si los cuadros\ndelimitadores son id\u00e9nticos, entonces la m\u00e9trica be 1; si est\u00e1 disjunto,\nser\u00e1 0. Una funci\u00f3n para hacer esto es:\n"
      ]
    },
    {
      "cell_type": "code",
      "execution_count": null,
      "metadata": {
        "collapsed": false
      },
      "outputs": [],
      "source": [
        "def bounding_box_iou(box_A_input, box_B_input):\n    # The inputs are array-likes in the form\n    # [x_0, y_0, delta_x,delta_y]\n    # where the deltas are positive\n\n    box_A = np.array(box_A_input)\n    box_B = np.array(box_B_input)\n\n    if box_A[2] < 0:\n        raise ValueError(\"Bad delta_x for box_A\")\n    if box_A[3] < 0:\n        raise ValueError(\"Bad delta y for box_A\")\n    if box_B[2] < 0:\n        raise ValueError(\"Bad delta x for box_B\")\n    if box_B[3] < 0:\n        raise ValueError(\"Bad delta y for box_B\")\n\n    # Convert deltas to co-ordinates\n    box_A[2:4] = box_A[0:2] + box_A[2:4]\n    box_B[2:4] = box_B[0:2] + box_B[2:4]\n\n    # Determine the (x, y)-coordinates of the intersection rectangle\n    x_A = max(box_A[0], box_B[0])\n    y_A = max(box_A[1], box_B[1])\n    x_B = min(box_A[2], box_B[2])\n    y_B = min(box_A[3], box_B[3])\n\n    if (x_B < x_A) or (y_B < y_A):\n        return 0\n\n    # Compute the area of intersection rectangle\n    interArea = (x_B - x_A) * (y_B - y_A)\n\n    # Compute the area of both the prediction and ground-truth\n    # rectangles\n    box_A_area = (box_A[2] - box_A[0]) * (box_A[3] - box_A[1])\n    box_B_area = (box_B[2] - box_B[0]) * (box_B[3] - box_B[1])\n\n    # Compute the intersection over union by taking the intersection\n    # area and dividing it by the sum of prediction + ground-truth\n    # areas - the intersection area\n    iou = interArea / float(box_A_area + box_B_area - interArea)\n\n    return iou"
      ]
    },
    {
      "cell_type": "markdown",
      "metadata": {},
      "source": [
        "Esta es una m\u00e9trica para dos cuadros delimitadores, pero para\n`~ fairlearn.metrics.MetricFrame`{.interpreted-text role=\"class\"}\nnecesitamos comparar dos listas de cuadros delimitadores. Por\nsimplicidad, devolveremos el valor medio de \\'iou\\' para las dos listas,\npero esta no es la \u00fanica opci\u00f3n:\n"
      ]
    },
    {
      "cell_type": "code",
      "execution_count": null,
      "metadata": {
        "collapsed": false
      },
      "outputs": [],
      "source": [
        "def mean_iou(true_boxes, predicted_boxes):\n    if len(true_boxes) != len(predicted_boxes):\n        raise ValueError(\"Array size mismatch\")\n\n    all_iou = [\n        bounding_box_iou(y_true, y_pred)\n        for y_true, y_pred in zip(true_boxes, predicted_boxes)\n    ]\n\n    return np.mean(all_iou)"
      ]
    },
    {
      "cell_type": "markdown",
      "metadata": {},
      "source": [
        "Necesitamos generar algunos datos de entrada, as\u00ed que primero crearemos\nuna funci\u00f3n para generar un solo cuadro delimitador aleatorio:\n"
      ]
    },
    {
      "cell_type": "code",
      "execution_count": null,
      "metadata": {
        "collapsed": false
      },
      "outputs": [],
      "source": [
        "def generate_bounding_box(max_coord, max_delta, rng):\n    corner = max_coord * rng.random(size=2)\n    delta = max_delta * rng.random(size=2)\n\n    return np.concatenate((corner, delta))"
      ]
    },
    {
      "cell_type": "markdown",
      "metadata": {},
      "source": [
        "Usaremos esto para crear matrices de muestra [y\\_true]{.title-ref} e\n[y\\_pred]{.title-ref} de cuadros delimitadores:\n"
      ]
    },
    {
      "cell_type": "code",
      "execution_count": null,
      "metadata": {
        "collapsed": false
      },
      "outputs": [],
      "source": [
        "def many_bounding_boxes(n_rows, max_coord, max_delta, rng):\n    return [\n        generate_bounding_box(max_coord, max_delta, rng)\n        for _ in range(n_rows)\n    ]\n\n\ntrue_bounding_boxes = many_bounding_boxes(n_rows, 5, 10, rng)\npred_bounding_boxes = many_bounding_boxes(n_rows, 5, 10, rng)"
      ]
    },
    {
      "cell_type": "markdown",
      "metadata": {},
      "source": [
        "Finalmente, podemos usarlos en\n`~ fairlearn.metrics.MetricFrame`{.interpreted-text role=\"class\"}:\n"
      ]
    },
    {
      "cell_type": "code",
      "execution_count": null,
      "metadata": {
        "collapsed": false
      },
      "outputs": [],
      "source": [
        "mf_bb = MetricFrame(metrics={'mean_iou': mean_iou},\n                    y_true=true_bounding_boxes,\n                    y_pred=pred_bounding_boxes,\n                    sensitive_features=s_f)\n\nprint(\"Overall metric\")\nprint(mf_bb.overall)\nprint(\"Metrics by group\")\nprint(mf_bb.by_group)"
      ]
    },
    {
      "cell_type": "markdown",
      "metadata": {},
      "source": [
        "Las entradas individuales en las matrices [y\\_true]{.title-ref} e\n[y\\_pred]{.title-ref} puede ser arbitrariamente complejas. Son las\nfunciones m\u00e9tricas que les dan sentido. De manera similar,\n`~ fairlearn.metrics.MetricFrame`{.interpreted-text role=\"class\"} no\nimpone restricciones sobre el tipo de resultado obtenido. Uno puede\nimaginarse una tarea de imagen de reconocimiento donde hay m\u00faltiples\nobjetos detectables en cada imagen, y el algoritmo de reconocimiento de\nim\u00e1genes produce varios cuadros delimitadores (no necesariamente en un\nmapeo 1-a-1). El resultado de tal escenario podr\u00eda ser una matriz de\nalguna descripci\u00f3n. Otro caso en el que tanto los datos de entrada como\nlas m\u00e9tricas ser\u00e1n complejos es el procesamiento del lenguaje natural,\ndonde cada fila de la entrada podr\u00eda ser una oraci\u00f3n completa,\nposiblemente con incrustaciones de palabras complejas incluidas.\n"
      ]
    },
    {
      "cell_type": "markdown",
      "metadata": {},
      "source": [
        "Conclusi\u00f3n\n==========\n\nEste tutorial ha probado la flexibilidad de\n`~ fairlearn.metrics.MetricFrame`{.interpreted-text role=\"class\"} cuando\nse trata de argumentos de entradas, salida y de funciones m\u00e9tricas. Las\nargumentos de entradas de tipo lista (array) pueden tener elementos de\ntipos arbitrarios, y los valores de retorno de las funciones m\u00e9tricas\ntambi\u00e9n pueden ser de cualquier tipo (aunque m\u00e9todos como\n`~ fairlearn.metrics.MetricFrame.group_min`{.interpreted-text\nrole=\"meth\"} puede no trabajo).\n"
      ]
    }
  ],
  "metadata": {
    "kernelspec": {
      "display_name": "Python 3",
      "language": "python",
      "name": "python3"
    },
    "language_info": {
      "codemirror_mode": {
        "name": "ipython",
        "version": 3
      },
      "file_extension": ".py",
      "mimetype": "text/x-python",
      "name": "python",
      "nbconvert_exporter": "python",
      "pygments_lexer": "ipython3",
      "version": "3.7.4"
    }
  },
  "nbformat": 4,
  "nbformat_minor": 0
}